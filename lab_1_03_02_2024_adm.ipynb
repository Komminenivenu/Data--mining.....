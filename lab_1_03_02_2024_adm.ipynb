{
  "nbformat": 4,
  "nbformat_minor": 0,
  "metadata": {
    "colab": {
      "provenance": [],
      "toc_visible": true,
      "include_colab_link": true
    },
    "kernelspec": {
      "name": "python3",
      "display_name": "Python 3"
    },
    "language_info": {
      "name": "python"
    }
  },
  "cells": [
    {
      "cell_type": "markdown",
      "metadata": {
        "id": "view-in-github",
        "colab_type": "text"
      },
      "source": [
        "<a href=\"https://colab.research.google.com/github/Komminenivenu/Data--mining...../blob/main/lab_1_03_02_2024_adm.ipynb\" target=\"_parent\"><img src=\"https://colab.research.google.com/assets/colab-badge.svg\" alt=\"Open In Colab\"/></a>"
      ]
    },
    {
      "cell_type": "code",
      "execution_count": null,
      "metadata": {
        "id": "nLmSoS1IyQXT"
      },
      "outputs": [],
      "source": [
        "import pandas as pd\n",
        "import numpy as np\n",
        "from sklearn.preprocessing import MinMaxScaler , StandardScaler"
      ]
    },
    {
      "cell_type": "code",
      "source": [
        "file_path = '/content/titanic.csv'\n",
        "data = pd.read_csv(file_path)"
      ],
      "metadata": {
        "id": "DVDi5Sjy2ltR"
      },
      "execution_count": null,
      "outputs": []
    },
    {
      "cell_type": "code",
      "source": [
        "print(data.head())"
      ],
      "metadata": {
        "colab": {
          "base_uri": "https://localhost:8080/"
        },
        "id": "DvIi_abb4W6x",
        "outputId": "1626fdee-88ea-491e-e32a-546aadeb4bb7"
      },
      "execution_count": null,
      "outputs": [
        {
          "output_type": "stream",
          "name": "stdout",
          "text": [
            "   PassengerId  Survived  Pclass  \\\n",
            "0            1         0       3   \n",
            "1            2         1       1   \n",
            "2            3         1       3   \n",
            "3            4         1       1   \n",
            "4            5         0       3   \n",
            "\n",
            "                                                Name     Sex   Age  SibSp  \\\n",
            "0                            Braund, Mr. Owen Harris    male  22.0      1   \n",
            "1  Cumings, Mrs. John Bradley (Florence Briggs Th...  female  38.0      1   \n",
            "2                             Heikkinen, Miss. Laina  female  26.0      0   \n",
            "3       Futrelle, Mrs. Jacques Heath (Lily May Peel)  female  35.0      1   \n",
            "4                           Allen, Mr. William Henry    male  35.0      0   \n",
            "\n",
            "   Parch            Ticket     Fare Cabin Embarked  \n",
            "0      0         A/5 21171   7.2500   NaN        S  \n",
            "1      0          PC 17599  71.2833   C85        C  \n",
            "2      0  STON/O2. 3101282   7.9250   NaN        S  \n",
            "3      0            113803  53.1000  C123        S  \n",
            "4      0            373450   8.0500   NaN        S  \n"
          ]
        }
      ]
    },
    {
      "cell_type": "code",
      "source": [
        "print(data.tail())"
      ],
      "metadata": {
        "colab": {
          "base_uri": "https://localhost:8080/"
        },
        "id": "fTaeHiia4eva",
        "outputId": "35503e9d-823c-4158-9e3e-4bbf9e8bb7eb"
      },
      "execution_count": null,
      "outputs": [
        {
          "output_type": "stream",
          "name": "stdout",
          "text": [
            "     PassengerId  Survived  Pclass                                      Name  \\\n",
            "886          887         0       2                     Montvila, Rev. Juozas   \n",
            "887          888         1       1              Graham, Miss. Margaret Edith   \n",
            "888          889         0       3  Johnston, Miss. Catherine Helen \"Carrie\"   \n",
            "889          890         1       1                     Behr, Mr. Karl Howell   \n",
            "890          891         0       3                       Dooley, Mr. Patrick   \n",
            "\n",
            "        Sex   Age  SibSp  Parch      Ticket   Fare Cabin Embarked  \n",
            "886    male  27.0      0      0      211536  13.00   NaN        S  \n",
            "887  female  19.0      0      0      112053  30.00   B42        S  \n",
            "888  female   NaN      1      2  W./C. 6607  23.45   NaN        S  \n",
            "889    male  26.0      0      0      111369  30.00  C148        C  \n",
            "890    male  32.0      0      0      370376   7.75   NaN        Q  \n"
          ]
        }
      ]
    },
    {
      "cell_type": "code",
      "source": [
        "print(data.columns)"
      ],
      "metadata": {
        "colab": {
          "base_uri": "https://localhost:8080/"
        },
        "id": "R3Q4LwAS4553",
        "outputId": "77c1d7ca-17cd-425f-fe68-d2af203916c2"
      },
      "execution_count": null,
      "outputs": [
        {
          "output_type": "stream",
          "name": "stdout",
          "text": [
            "Index(['PassengerId', 'Survived', 'Pclass', 'Name', 'Sex', 'Age', 'SibSp',\n",
            "       'Parch', 'Ticket', 'Fare', 'Cabin', 'Embarked'],\n",
            "      dtype='object')\n"
          ]
        }
      ]
    },
    {
      "cell_type": "code",
      "source": [
        "print(data.info())"
      ],
      "metadata": {
        "colab": {
          "base_uri": "https://localhost:8080/"
        },
        "id": "MeNW0mKe5KIX",
        "outputId": "e452838f-0b7d-4683-a580-9b4b0ee08e58"
      },
      "execution_count": null,
      "outputs": [
        {
          "output_type": "stream",
          "name": "stdout",
          "text": [
            "<class 'pandas.core.frame.DataFrame'>\n",
            "RangeIndex: 891 entries, 0 to 890\n",
            "Data columns (total 12 columns):\n",
            " #   Column       Non-Null Count  Dtype  \n",
            "---  ------       --------------  -----  \n",
            " 0   PassengerId  891 non-null    int64  \n",
            " 1   Survived     891 non-null    int64  \n",
            " 2   Pclass       891 non-null    int64  \n",
            " 3   Name         891 non-null    object \n",
            " 4   Sex          891 non-null    object \n",
            " 5   Age          714 non-null    float64\n",
            " 6   SibSp        891 non-null    int64  \n",
            " 7   Parch        891 non-null    int64  \n",
            " 8   Ticket       891 non-null    object \n",
            " 9   Fare         891 non-null    float64\n",
            " 10  Cabin        204 non-null    object \n",
            " 11  Embarked     889 non-null    object \n",
            "dtypes: float64(2), int64(5), object(5)\n",
            "memory usage: 83.7+ KB\n",
            "None\n"
          ]
        }
      ]
    },
    {
      "cell_type": "code",
      "source": [
        "def test_handle_missing_values(data):\n",
        "  data_filled_mean = data.fillna(data.mean(numeric_only=True))\n",
        "  data_filled_median=data.fillna(data.median(numeric_only=True))\n",
        "  data_filled_mode = data.fillna(data.mode().iloc[0])\n",
        "  return data_filled_mean, data_filled_median, data_filled_mode"
      ],
      "metadata": {
        "id": "cdv6qgLE5hV8"
      },
      "execution_count": null,
      "outputs": []
    },
    {
      "cell_type": "code",
      "source": [
        "data_filled_mean, data_filled_median, data_filled_mode=test_handle_missing_values(data)"
      ],
      "metadata": {
        "id": "rAJuvxnN7lkU"
      },
      "execution_count": null,
      "outputs": []
    },
    {
      "cell_type": "code",
      "source": [
        "print(data_filled_mean)"
      ],
      "metadata": {
        "colab": {
          "base_uri": "https://localhost:8080/"
        },
        "id": "gtpwm9fc99Id",
        "outputId": "671b5fd5-bbc6-458b-ff37-47745a0cc3df"
      },
      "execution_count": null,
      "outputs": [
        {
          "output_type": "stream",
          "name": "stdout",
          "text": [
            "     PassengerId  Survived  Pclass  \\\n",
            "0              1         0       3   \n",
            "1              2         1       1   \n",
            "2              3         1       3   \n",
            "3              4         1       1   \n",
            "4              5         0       3   \n",
            "..           ...       ...     ...   \n",
            "886          887         0       2   \n",
            "887          888         1       1   \n",
            "888          889         0       3   \n",
            "889          890         1       1   \n",
            "890          891         0       3   \n",
            "\n",
            "                                                  Name     Sex        Age  \\\n",
            "0                              Braund, Mr. Owen Harris    male  22.000000   \n",
            "1    Cumings, Mrs. John Bradley (Florence Briggs Th...  female  38.000000   \n",
            "2                               Heikkinen, Miss. Laina  female  26.000000   \n",
            "3         Futrelle, Mrs. Jacques Heath (Lily May Peel)  female  35.000000   \n",
            "4                             Allen, Mr. William Henry    male  35.000000   \n",
            "..                                                 ...     ...        ...   \n",
            "886                              Montvila, Rev. Juozas    male  27.000000   \n",
            "887                       Graham, Miss. Margaret Edith  female  19.000000   \n",
            "888           Johnston, Miss. Catherine Helen \"Carrie\"  female  29.699118   \n",
            "889                              Behr, Mr. Karl Howell    male  26.000000   \n",
            "890                                Dooley, Mr. Patrick    male  32.000000   \n",
            "\n",
            "     SibSp  Parch            Ticket     Fare Cabin Embarked  \n",
            "0        1      0         A/5 21171   7.2500   NaN        S  \n",
            "1        1      0          PC 17599  71.2833   C85        C  \n",
            "2        0      0  STON/O2. 3101282   7.9250   NaN        S  \n",
            "3        1      0            113803  53.1000  C123        S  \n",
            "4        0      0            373450   8.0500   NaN        S  \n",
            "..     ...    ...               ...      ...   ...      ...  \n",
            "886      0      0            211536  13.0000   NaN        S  \n",
            "887      0      0            112053  30.0000   B42        S  \n",
            "888      1      2        W./C. 6607  23.4500   NaN        S  \n",
            "889      0      0            111369  30.0000  C148        C  \n",
            "890      0      0            370376   7.7500   NaN        Q  \n",
            "\n",
            "[891 rows x 12 columns]\n"
          ]
        }
      ]
    },
    {
      "cell_type": "code",
      "source": [
        "print(data_filled_median)"
      ],
      "metadata": {
        "colab": {
          "base_uri": "https://localhost:8080/"
        },
        "id": "FWxXbxuW-CNf",
        "outputId": "7ec58487-2117-4aa2-da6d-ed9f4f28e8d5"
      },
      "execution_count": null,
      "outputs": [
        {
          "output_type": "stream",
          "name": "stdout",
          "text": [
            "     PassengerId  Survived  Pclass  \\\n",
            "0              1         0       3   \n",
            "1              2         1       1   \n",
            "2              3         1       3   \n",
            "3              4         1       1   \n",
            "4              5         0       3   \n",
            "..           ...       ...     ...   \n",
            "886          887         0       2   \n",
            "887          888         1       1   \n",
            "888          889         0       3   \n",
            "889          890         1       1   \n",
            "890          891         0       3   \n",
            "\n",
            "                                                  Name     Sex   Age  SibSp  \\\n",
            "0                              Braund, Mr. Owen Harris    male  22.0      1   \n",
            "1    Cumings, Mrs. John Bradley (Florence Briggs Th...  female  38.0      1   \n",
            "2                               Heikkinen, Miss. Laina  female  26.0      0   \n",
            "3         Futrelle, Mrs. Jacques Heath (Lily May Peel)  female  35.0      1   \n",
            "4                             Allen, Mr. William Henry    male  35.0      0   \n",
            "..                                                 ...     ...   ...    ...   \n",
            "886                              Montvila, Rev. Juozas    male  27.0      0   \n",
            "887                       Graham, Miss. Margaret Edith  female  19.0      0   \n",
            "888           Johnston, Miss. Catherine Helen \"Carrie\"  female  28.0      1   \n",
            "889                              Behr, Mr. Karl Howell    male  26.0      0   \n",
            "890                                Dooley, Mr. Patrick    male  32.0      0   \n",
            "\n",
            "     Parch            Ticket     Fare Cabin Embarked  \n",
            "0        0         A/5 21171   7.2500   NaN        S  \n",
            "1        0          PC 17599  71.2833   C85        C  \n",
            "2        0  STON/O2. 3101282   7.9250   NaN        S  \n",
            "3        0            113803  53.1000  C123        S  \n",
            "4        0            373450   8.0500   NaN        S  \n",
            "..     ...               ...      ...   ...      ...  \n",
            "886      0            211536  13.0000   NaN        S  \n",
            "887      0            112053  30.0000   B42        S  \n",
            "888      2        W./C. 6607  23.4500   NaN        S  \n",
            "889      0            111369  30.0000  C148        C  \n",
            "890      0            370376   7.7500   NaN        Q  \n",
            "\n",
            "[891 rows x 12 columns]\n"
          ]
        }
      ]
    },
    {
      "cell_type": "code",
      "source": [
        "print(data_filled_mode)"
      ],
      "metadata": {
        "colab": {
          "base_uri": "https://localhost:8080/"
        },
        "id": "yRiauzCF-IjP",
        "outputId": "352c97a2-d0ac-40da-e385-c3c029e46730"
      },
      "execution_count": null,
      "outputs": [
        {
          "output_type": "stream",
          "name": "stdout",
          "text": [
            "     PassengerId  Survived  Pclass  \\\n",
            "0              1         0       3   \n",
            "1              2         1       1   \n",
            "2              3         1       3   \n",
            "3              4         1       1   \n",
            "4              5         0       3   \n",
            "..           ...       ...     ...   \n",
            "886          887         0       2   \n",
            "887          888         1       1   \n",
            "888          889         0       3   \n",
            "889          890         1       1   \n",
            "890          891         0       3   \n",
            "\n",
            "                                                  Name     Sex   Age  SibSp  \\\n",
            "0                              Braund, Mr. Owen Harris    male  22.0      1   \n",
            "1    Cumings, Mrs. John Bradley (Florence Briggs Th...  female  38.0      1   \n",
            "2                               Heikkinen, Miss. Laina  female  26.0      0   \n",
            "3         Futrelle, Mrs. Jacques Heath (Lily May Peel)  female  35.0      1   \n",
            "4                             Allen, Mr. William Henry    male  35.0      0   \n",
            "..                                                 ...     ...   ...    ...   \n",
            "886                              Montvila, Rev. Juozas    male  27.0      0   \n",
            "887                       Graham, Miss. Margaret Edith  female  19.0      0   \n",
            "888           Johnston, Miss. Catherine Helen \"Carrie\"  female  24.0      1   \n",
            "889                              Behr, Mr. Karl Howell    male  26.0      0   \n",
            "890                                Dooley, Mr. Patrick    male  32.0      0   \n",
            "\n",
            "     Parch            Ticket     Fare    Cabin Embarked  \n",
            "0        0         A/5 21171   7.2500  B96 B98        S  \n",
            "1        0          PC 17599  71.2833      C85        C  \n",
            "2        0  STON/O2. 3101282   7.9250  B96 B98        S  \n",
            "3        0            113803  53.1000     C123        S  \n",
            "4        0            373450   8.0500  B96 B98        S  \n",
            "..     ...               ...      ...      ...      ...  \n",
            "886      0            211536  13.0000  B96 B98        S  \n",
            "887      0            112053  30.0000      B42        S  \n",
            "888      2        W./C. 6607  23.4500  B96 B98        S  \n",
            "889      0            111369  30.0000     C148        C  \n",
            "890      0            370376   7.7500  B96 B98        Q  \n",
            "\n",
            "[891 rows x 12 columns]\n"
          ]
        }
      ]
    },
    {
      "cell_type": "code",
      "source": [
        "def test_feature_scaling(data):\n",
        "  scaler = MinMaxScaler()\n",
        "  scaled_data = scaler.fit_transform(data)\n",
        "  return scaled_data\n",
        "  data= data.fillna(data.mean(numeric_only=True))"
      ],
      "metadata": {
        "id": "eJdB1VLi-R5s"
      },
      "execution_count": null,
      "outputs": []
    },
    {
      "cell_type": "code",
      "source": [
        "data_minmax_scaled = pd.DataFrame(MinMaxScaler().fit_transform(data[['Fare', 'Age']]), columns=['Fare', 'Age'])"
      ],
      "metadata": {
        "id": "uD4drtgG_jtB"
      },
      "execution_count": null,
      "outputs": []
    },
    {
      "cell_type": "code",
      "source": [
        "print(data_minmax_scaled)"
      ],
      "metadata": {
        "colab": {
          "base_uri": "https://localhost:8080/"
        },
        "id": "a_t2_Y1kAWZF",
        "outputId": "6d343273-b1f4-48a3-d538-8292528ff106"
      },
      "execution_count": null,
      "outputs": [
        {
          "output_type": "stream",
          "name": "stdout",
          "text": [
            "         Fare       Age\n",
            "0    0.014151  0.271174\n",
            "1    0.139136  0.472229\n",
            "2    0.015469  0.321438\n",
            "3    0.103644  0.434531\n",
            "4    0.015713  0.434531\n",
            "..        ...       ...\n",
            "886  0.025374  0.334004\n",
            "887  0.058556  0.233476\n",
            "888  0.045771       NaN\n",
            "889  0.058556  0.321438\n",
            "890  0.015127  0.396833\n",
            "\n",
            "[891 rows x 2 columns]\n"
          ]
        }
      ]
    },
    {
      "cell_type": "code",
      "source": [
        "from sklearn.preprocessing import StandardScaler\n",
        "data_zscore_scaled=pd.DataFrame(StandardScaler().fit_transform(data[['Fare', 'Age']]), columns=['Fare', 'Age'])"
      ],
      "metadata": {
        "id": "Z9GufbmH_x7x"
      },
      "execution_count": null,
      "outputs": []
    },
    {
      "cell_type": "code",
      "source": [
        "print(data_zscore_scaled)"
      ],
      "metadata": {
        "colab": {
          "base_uri": "https://localhost:8080/"
        },
        "id": "7VnwyCaXAaWA",
        "outputId": "127fd74f-2795-4d01-fafe-70c10c0033bf"
      },
      "execution_count": null,
      "outputs": [
        {
          "output_type": "stream",
          "name": "stdout",
          "text": [
            "         Fare       Age\n",
            "0   -0.502445 -0.530377\n",
            "1    0.786845  0.571831\n",
            "2   -0.488854 -0.254825\n",
            "3    0.420730  0.365167\n",
            "4   -0.486337  0.365167\n",
            "..        ...       ...\n",
            "886 -0.386671 -0.185937\n",
            "887 -0.044381 -0.737041\n",
            "888 -0.176263       NaN\n",
            "889 -0.044381 -0.254825\n",
            "890 -0.492378  0.158503\n",
            "\n",
            "[891 rows x 2 columns]\n"
          ]
        }
      ]
    }
  ]
}